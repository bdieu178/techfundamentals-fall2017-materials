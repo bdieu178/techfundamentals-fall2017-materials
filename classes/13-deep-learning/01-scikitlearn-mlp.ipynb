{
 "cells": [
  {
   "cell_type": "markdown",
   "metadata": {},
   "source": [
    "[![AnalyticsDojo](https://s3.amazonaws.com/analyticsdojo/logo/final-logo.png)](http://rpi.analyticsdojo.com)\n",
    "<center><h1>Neural Networks (Mulitilayer Perceptron) with Numpy and Scikit Learn</h1></center>\n",
    "<center><h3><a href = 'http://rpi.analyticsdojo.com'>rpi.analyticsdojo.com</a></h3></center>\n"
   ]
  },
  {
   "cell_type": "code",
   "execution_count": 1,
   "metadata": {},
   "outputs": [
    {
     "name": "stdout",
     "output_type": "stream",
     "text": [
      "All: [ 33.33333333  33.33333333  33.33333333]\n",
      "Training: [ 33.33333333  33.33333333  33.33333333]\n",
      "Test: [ 33.33333333  33.33333333  33.33333333]\n"
     ]
    }
   ],
   "source": [
    "%matplotlib inline\n",
    "import matplotlib.pyplot as plt\n",
    "import numpy as np\n",
    "from sklearn.datasets import load_iris\n",
    "from sklearn.model_selection import train_test_split\n",
    "\n",
    "#Iris is available from the sklearn package\n",
    "iris = load_iris()\n",
    "X, y = iris.data, iris.target\n",
    "\n",
    "train_X, test_X, train_y, test_y = train_test_split(X, y, \n",
    "                                                    train_size=0.5,\n",
    "                                                    test_size=0.5,\n",
    "                                                    random_state=123,\n",
    "                                                    stratify=y)\n",
    "\n",
    "print('All:', np.bincount(y) / float(len(y)) * 100.0)\n",
    "print('Training:', np.bincount(train_y) / float(len(train_y)) * 100.0)\n",
    "print('Test:', np.bincount(test_y) / float(len(test_y)) * 100.0)"
   ]
  },
  {
   "cell_type": "markdown",
   "metadata": {},
   "source": [
    "### Prediction using Multilayer Perceptron (Simple NN)\n",
    "- [Documentation](http://scikit-learn.org/stable/modules/generated/sklearn.neural_network.MLPClassifier.html)\n",
    "- length is the number of hidden layers. \n",
    "- Maximum iterations the number of steps before it ends gradient decent. \n",
    "\n",
    "- `activation` is the activation function.  \n",
    "\n",
    "```\n",
    "‘identity’, no-op activation, useful to implement linear bottleneck, returns f(x) = x.\n",
    "‘logistic’, the logistic sigmoid function, returns f(x) = 1 / (1 + exp(-x)).\n",
    "‘tanh’, the hyperbolic tan function, returns f(x) = tanh(x).\n",
    "‘relu’, the rectified linear unit function, returns f(x) = max(0, x).\n",
    "```\n",
    "- alpha : float, optional, default 0.0001 (L2 penalty (regularization term) parameter.)\n",
    "- Solver : ‘lbfgs’ is an optimizer in the family of quasi-Newton methods. ‘sgd’ refers to stochastic gradient descent.‘adam’ refers to a stochastic gradient-based optimizer proposed by Kingma, Diederik, and Jimmy Ba\n"
   ]
  },
  {
   "cell_type": "code",
   "execution_count": 2,
   "metadata": {},
   "outputs": [
    {
     "name": "stdout",
     "output_type": "stream",
     "text": [
      "Train score:  0.986666666667\n",
      "Test score:  0.973333333333\n"
     ]
    },
    {
     "name": "stderr",
     "output_type": "stream",
     "text": [
      "//anaconda/envs/tensorflow/lib/python3.5/site-packages/sklearn/neural_network/multilayer_perceptron.py:563: ConvergenceWarning: Stochastic Optimizer: Maximum iterations reached and the optimization hasn't converged yet.\n",
      "  % (), ConvergenceWarning)\n"
     ]
    }
   ],
   "source": [
    "from sklearn.neural_network import MLPClassifier\n",
    "from sklearn import metrics\n",
    "\n",
    "#This creates a model object.\n",
    "classifier = MLPClassifier()\n",
    "classifier.fit(train_X, train_y)\n",
    "#This creates the prediction. \n",
    "pred_y_train = classifier.predict(train_X)\n",
    "pred_y_test = classifier.predict(test_X)\n",
    "#This calculates the accuracy.\n",
    "print(\"Train score: \", metrics.accuracy_score(train_y, pred_y_train) )\n",
    "print(\"Test score: \", metrics.accuracy_score(test_y, pred_y_test) )\n"
   ]
  },
  {
   "cell_type": "code",
   "execution_count": 3,
   "metadata": {},
   "outputs": [
    {
     "name": "stdout",
     "output_type": "stream",
     "text": [
      "Metrics score:  0.973333333333\n",
      "Classifier score:  0.973333333333\n"
     ]
    }
   ],
   "source": [
    "from sklearn.neural_network import MLPClassifier\n",
    "from sklearn import metrics\n",
    "\n",
    "#4 layers\n",
    "#This creates a model object.\n",
    "classifier = MLPClassifier(max_iter= 10000, activation= 'relu', solver='sgd', alpha=1e-5, hidden_layer_sizes=(10,10), random_state=1)\n",
    "#This fits the model object to the data.\n",
    "classifier.fit(train_X, train_y)\n",
    "#This creates the prediction. \n",
    "pred_y = classifier.predict(test_X)\n",
    "#This calculates the accuracy.\n",
    "print(\"Train score: \", metrics.accuracy_score(train_y, pred_y_train) )\n",
    "print(\"Test score: \", metrics.accuracy_score(test_y, pred_y_test) )\n",
    "\n"
   ]
  },
  {
   "cell_type": "code",
   "execution_count": 3,
   "metadata": {},
   "outputs": [
    {
     "name": "stdout",
     "output_type": "stream",
     "text": [
      "Metrics score:  0.96\n",
      "Classifier score:  0.96\n"
     ]
    }
   ],
   "source": [
    "from sklearn.neural_network import MLPClassifier\n",
    "from sklearn import metrics\n",
    "\n",
    "#4 layers\n",
    "#This creates a model object.\n",
    "classifier = MLPClassifier(max_iter= 10000, activation= 'relu', solver='sgd', alpha=1e-5, hidden_layer_sizes=(10,10,10,10), random_state=1)\n",
    "#This fits the model object to the data.\n",
    "classifier.fit(train_X, train_y)\n",
    "#This creates the prediction. \n",
    "pred_y = classifier.predict(test_X)\n",
    "#This calculates the accuracy.\n",
    "print(\"Train score: \", metrics.accuracy_score(train_y, pred_y_train) )\n",
    "print(\"Test score: \", metrics.accuracy_score(test_y, pred_y_test) )\n",
    "\n"
   ]
  },
  {
   "cell_type": "code",
   "execution_count": 11,
   "metadata": {},
   "outputs": [
    {
     "name": "stdout",
     "output_type": "stream",
     "text": [
      "Manual Accuracy: 0.933333333333\n",
      "Metrics score:  0.933333333333\n",
      "Classifier score:  0.933333333333\n"
     ]
    }
   ],
   "source": [
    "from sklearn import metrics\n",
    "\n",
    "#This calculates the accuracy.\n",
    "print(\"Manual Accuracy:\", np.sum(pred_y == test_y) / float(len(test_y)))\n",
    "print(\"Metrics score: \", metrics.accuracy_score(test_y, pred_y) )\n",
    "print(\"Classifier score: \", classifier.score(test_X, test_y) )\n"
   ]
  }
 ],
 "metadata": {
  "anaconda-cloud": {},
  "kernelspec": {
   "display_name": "Python [tensorflow]",
   "language": "python",
   "name": "Python [tensorflow]"
  },
  "language_info": {
   "codemirror_mode": {
    "name": "ipython",
    "version": 3
   },
   "file_extension": ".py",
   "mimetype": "text/x-python",
   "name": "python",
   "nbconvert_exporter": "python",
   "pygments_lexer": "ipython3",
   "version": "3.5.3"
  }
 },
 "nbformat": 4,
 "nbformat_minor": 1
}
