{
 "cells": [
  {
   "cell_type": "markdown",
   "metadata": {},
   "source": [
    "[![AnalyticsDojo](https://s3.amazonaws.com/analyticsdojo/logo/final-logo.png)](http://rpi.analyticsdojo.com)\n",
    "<center><h1>Bag of Words</h1></center>\n",
    "<center><h3><a href = 'http://rpi.analyticsdojo.com'>rpi.analyticsdojo.com</a></h3></center>"
   ]
  },
  {
   "cell_type": "markdown",
   "metadata": {},
   "source": [
    "This is adopted from: [Bag of Words Meets Bags of Popcorn](https://www.kaggle.com/c/word2vec-nlp-tutorial/details/part-1-for-beginners-bag-of-words)\n",
    "[https://github.com/wendykan/DeepLearningMovies](https://github.com/wendykan/DeepLearningMovies)\n"
   ]
  },
  {
   "cell_type": "code",
   "execution_count": 1,
   "metadata": {},
   "outputs": [],
   "source": [
    "import nltk\n",
    "import pandas as pd\n",
    "import numpy as np\n",
    "from bs4 import BeautifulSoup\n",
    "from nltk.corpus import stopwords"
   ]
  },
  {
   "cell_type": "code",
   "execution_count": 2,
   "metadata": {},
   "outputs": [],
   "source": [
    "train = pd.read_csv('../input/labeledTrainData.tsv', header=0, \\\n",
    "                    delimiter=\"\\t\", quoting=3)\n",
    "unlabeled_train= pd.read_csv('../input/unlabeledTrainData.tsv', header=0, \\\n",
    "                    delimiter=\"\\t\", quoting=3)\n",
    "test = pd.read_csv('../input/testData.tsv', header=0, \\\n",
    "                    delimiter=\"\\t\", quoting=3)"
   ]
  },
  {
   "cell_type": "code",
   "execution_count": 3,
   "metadata": {},
   "outputs": [],
   "source": [
    "import os\n",
    "from sklearn.feature_extraction.text import CountVectorizer\n",
    "from sklearn.ensemble import RandomForestClassifier\n",
    "import pandas as pd\n",
    "import numpy as np"
   ]
  },
  {
   "cell_type": "code",
   "execution_count": 4,
   "metadata": {},
   "outputs": [
    {
     "name": "stdout",
     "output_type": "stream",
     "text": [
      "['id' 'sentiment' 'review'] ['id' 'review']\n"
     ]
    }
   ],
   "source": [
    "print(train.columns.values, test.columns.values)"
   ]
  },
  {
   "cell_type": "code",
   "execution_count": 5,
   "metadata": {},
   "outputs": [
    {
     "data": {
      "text/html": [
       "<div>\n",
       "<table border=\"1\" class=\"dataframe\">\n",
       "  <thead>\n",
       "    <tr style=\"text-align: right;\">\n",
       "      <th></th>\n",
       "      <th>id</th>\n",
       "      <th>sentiment</th>\n",
       "      <th>review</th>\n",
       "    </tr>\n",
       "  </thead>\n",
       "  <tbody>\n",
       "    <tr>\n",
       "      <th>0</th>\n",
       "      <td>\"5814_8\"</td>\n",
       "      <td>1</td>\n",
       "      <td>\"With all this stuff going down at the moment ...</td>\n",
       "    </tr>\n",
       "    <tr>\n",
       "      <th>1</th>\n",
       "      <td>\"2381_9\"</td>\n",
       "      <td>1</td>\n",
       "      <td>\"\\\"The Classic War of the Worlds\\\" by Timothy ...</td>\n",
       "    </tr>\n",
       "    <tr>\n",
       "      <th>2</th>\n",
       "      <td>\"7759_3\"</td>\n",
       "      <td>0</td>\n",
       "      <td>\"The film starts with a manager (Nicholas Bell...</td>\n",
       "    </tr>\n",
       "    <tr>\n",
       "      <th>3</th>\n",
       "      <td>\"3630_4\"</td>\n",
       "      <td>0</td>\n",
       "      <td>\"It must be assumed that those who praised thi...</td>\n",
       "    </tr>\n",
       "    <tr>\n",
       "      <th>4</th>\n",
       "      <td>\"9495_8\"</td>\n",
       "      <td>1</td>\n",
       "      <td>\"Superbly trashy and wondrously unpretentious ...</td>\n",
       "    </tr>\n",
       "  </tbody>\n",
       "</table>\n",
       "</div>"
      ],
      "text/plain": [
       "         id  sentiment                                             review\n",
       "0  \"5814_8\"          1  \"With all this stuff going down at the moment ...\n",
       "1  \"2381_9\"          1  \"\\\"The Classic War of the Worlds\\\" by Timothy ...\n",
       "2  \"7759_3\"          0  \"The film starts with a manager (Nicholas Bell...\n",
       "3  \"3630_4\"          0  \"It must be assumed that those who praised thi...\n",
       "4  \"9495_8\"          1  \"Superbly trashy and wondrously unpretentious ..."
      ]
     },
     "execution_count": 5,
     "metadata": {},
     "output_type": "execute_result"
    }
   ],
   "source": [
    "train.head()"
   ]
  },
  {
   "cell_type": "code",
   "execution_count": 6,
   "metadata": {},
   "outputs": [
    {
     "name": "stdout",
     "output_type": "stream",
     "text": [
      "The train shape is:  (25000, 3)\n",
      "The train shape is:  (25000, 2)\n"
     ]
    }
   ],
   "source": [
    "print('The train shape is: ', train.shape)\n",
    "print('The train shape is: ', test.shape)"
   ]
  },
  {
   "cell_type": "code",
   "execution_count": 7,
   "metadata": {},
   "outputs": [
    {
     "name": "stdout",
     "output_type": "stream",
     "text": [
      "The first review is:\n",
      "\"With all this stuff going down at the moment with MJ i've started listening to his music, watching the odd documentary here and there, watched The Wiz and watched Moonwalker again. Maybe i just want to get a certain insight into this guy who i thought was really cool in the eighties just to maybe make up my mind whether he is guilty or innocent. Moonwalker is part biography, part feature film which i remember going to see at the cinema when it was originally released. Some of it has subtle messages about MJ's feeling towards the press and also the obvious message of drugs are bad m'kay.<br /><br />Visually impressive but of course this is all about Michael Jackson so unless you remotely like MJ in anyway then you are going to hate this and find it boring. Some may call MJ an egotist for consenting to the making of this movie BUT MJ and most of his fans would say that he made it for the fans which if true is really nice of him.<br /><br />The actual feature film bit when it finally starts is only on for 20 minutes or so excluding the Smooth Criminal sequence and Joe Pesci is convincing as a psychopathic all powerful drug lord. Why he wants MJ dead so bad is beyond me. Because MJ overheard his plans? Nah, Joe Pesci's character ranted that he wanted people to know it is he who is supplying drugs etc so i dunno, maybe he just hates MJ's music.<br /><br />Lots of cool things in this like MJ turning into a car and a robot and the whole Speed Demon sequence. Also, the director must have had the patience of a saint when it came to filming the kiddy Bad sequence as usually directors hate working with one kid let alone a whole bunch of them performing a complex dance scene.<br /><br />Bottom line, this movie is for people who like MJ on one level or another (which i think is most people). If not, then stay away. It does try and give off a wholesome message and ironically MJ's bestest buddy in this movie is a girl! Michael Jackson is truly one of the most talented people ever to grace this planet but is he guilty? Well, with all the attention i've gave this subject....hmmm well i don't know because people can be different behind closed doors, i know this for a fact. He is either an extremely nice but stupid guy or one of the most sickest liars. I hope he is not the latter.\"\n"
     ]
    }
   ],
   "source": [
    "print('The first review is:')\n",
    "print(train[\"review\"][0])\n"
   ]
  },
  {
   "cell_type": "code",
   "execution_count": 8,
   "metadata": {},
   "outputs": [
    {
     "name": "stdout",
     "output_type": "stream",
     "text": [
      "\"With all this stuff going down at the moment with MJ i've started listening to his music, watching the odd documentary here and there, watched The Wiz and watched Moonwalker again. Maybe i just want to get a certain insight into this guy who i thought was really cool in the eighties just to maybe make up my mind whether he is guilty or innocent. Moonwalker is part biography, part feature film which i remember going to see at the cinema when it was originally released. Some of it has subtle messages about MJ's feeling towards the press and also the obvious message of drugs are bad m'kay.Visually impressive but of course this is all about Michael Jackson so unless you remotely like MJ in anyway then you are going to hate this and find it boring. Some may call MJ an egotist for consenting to the making of this movie BUT MJ and most of his fans would say that he made it for the fans which if true is really nice of him.The actual feature film bit when it finally starts is only on for 20 minutes or so excluding the Smooth Criminal sequence and Joe Pesci is convincing as a psychopathic all powerful drug lord. Why he wants MJ dead so bad is beyond me. Because MJ overheard his plans? Nah, Joe Pesci's character ranted that he wanted people to know it is he who is supplying drugs etc so i dunno, maybe he just hates MJ's music.Lots of cool things in this like MJ turning into a car and a robot and the whole Speed Demon sequence. Also, the director must have had the patience of a saint when it came to filming the kiddy Bad sequence as usually directors hate working with one kid let alone a whole bunch of them performing a complex dance scene.Bottom line, this movie is for people who like MJ on one level or another (which i think is most people). If not, then stay away. It does try and give off a wholesome message and ironically MJ's bestest buddy in this movie is a girl! Michael Jackson is truly one of the most talented people ever to grace this planet but is he guilty? Well, with all the attention i've gave this subject....hmmm well i don't know because people can be different behind closed doors, i know this for a fact. He is either an extremely nice but stupid guy or one of the most sickest liars. I hope he is not the latter.\"\n"
     ]
    }
   ],
   "source": [
    "# Import BeautifulSoup into your workspace\n",
    "from bs4 import BeautifulSoup             \n",
    "\n",
    "# Initialize the BeautifulSoup object on a single movie review     \n",
    "example1 = BeautifulSoup(train[\"review\"][0], \"html.parser\" )  \n",
    "print(example1.get_text())"
   ]
  },
  {
   "cell_type": "code",
   "execution_count": 9,
   "metadata": {},
   "outputs": [
    {
     "name": "stdout",
     "output_type": "stream",
     "text": [
      " With all this stuff going down at the moment with MJ i ve started listening to his music  watching the odd documentary here and there  watched The Wiz and watched Moonwalker again  Maybe i just want to get a certain insight into this guy who i thought was really cool in the eighties just to maybe make up my mind whether he is guilty or innocent  Moonwalker is part biography  part feature film which i remember going to see at the cinema when it was originally released  Some of it has subtle messages about MJ s feeling towards the press and also the obvious message of drugs are bad m kay Visually impressive but of course this is all about Michael Jackson so unless you remotely like MJ in anyway then you are going to hate this and find it boring  Some may call MJ an egotist for consenting to the making of this movie BUT MJ and most of his fans would say that he made it for the fans which if true is really nice of him The actual feature film bit when it finally starts is only on for    minutes or so excluding the Smooth Criminal sequence and Joe Pesci is convincing as a psychopathic all powerful drug lord  Why he wants MJ dead so bad is beyond me  Because MJ overheard his plans  Nah  Joe Pesci s character ranted that he wanted people to know it is he who is supplying drugs etc so i dunno  maybe he just hates MJ s music Lots of cool things in this like MJ turning into a car and a robot and the whole Speed Demon sequence  Also  the director must have had the patience of a saint when it came to filming the kiddy Bad sequence as usually directors hate working with one kid let alone a whole bunch of them performing a complex dance scene Bottom line  this movie is for people who like MJ on one level or another  which i think is most people   If not  then stay away  It does try and give off a wholesome message and ironically MJ s bestest buddy in this movie is a girl  Michael Jackson is truly one of the most talented people ever to grace this planet but is he guilty  Well  with all the attention i ve gave this subject    hmmm well i don t know because people can be different behind closed doors  i know this for a fact  He is either an extremely nice but stupid guy or one of the most sickest liars  I hope he is not the latter  \n"
     ]
    }
   ],
   "source": [
    "import re\n",
    "# Use regular expressions to do a find-and-replace\n",
    "letters_only = re.sub(\"[^a-zA-Z]\",           # The pattern to search for\n",
    "                      \" \",                   # The pattern to replace it with\n",
    "                      example1.get_text() )  # The text to search\n",
    "print (letters_only)"
   ]
  },
  {
   "cell_type": "code",
   "execution_count": 10,
   "metadata": {},
   "outputs": [],
   "source": [
    "lower_case = letters_only.lower()        # Convert to lower case\n",
    "words = lower_case.split()               # Split into words\n"
   ]
  },
  {
   "cell_type": "code",
   "execution_count": 11,
   "metadata": {},
   "outputs": [
    {
     "name": "stdout",
     "output_type": "stream",
     "text": [
      "[nltk_data] Downloading package stopwords to /home/jovyan/nltk_data...\n",
      "[nltk_data]   Package stopwords is already up-to-date!\n"
     ]
    },
    {
     "data": {
      "text/plain": [
       "True"
      ]
     },
     "execution_count": 11,
     "metadata": {},
     "output_type": "execute_result"
    }
   ],
   "source": [
    "# Enter Download then stopwords.\n",
    "nltk.download('stopwords')"
   ]
  },
  {
   "cell_type": "code",
   "execution_count": 12,
   "metadata": {},
   "outputs": [
    {
     "name": "stdout",
     "output_type": "stream",
     "text": [
      "['i', 'me', 'my', 'myself', 'we', 'our', 'ours', 'ourselves', 'you', 'your', 'yours', 'yourself', 'yourselves', 'he', 'him', 'his', 'himself', 'she', 'her', 'hers', 'herself', 'it', 'its', 'itself', 'they', 'them', 'their', 'theirs', 'themselves', 'what', 'which', 'who', 'whom', 'this', 'that', 'these', 'those', 'am', 'is', 'are', 'was', 'were', 'be', 'been', 'being', 'have', 'has', 'had', 'having', 'do', 'does', 'did', 'doing', 'a', 'an', 'the', 'and', 'but', 'if', 'or', 'because', 'as', 'until', 'while', 'of', 'at', 'by', 'for', 'with', 'about', 'against', 'between', 'into', 'through', 'during', 'before', 'after', 'above', 'below', 'to', 'from', 'up', 'down', 'in', 'out', 'on', 'off', 'over', 'under', 'again', 'further', 'then', 'once', 'here', 'there', 'when', 'where', 'why', 'how', 'all', 'any', 'both', 'each', 'few', 'more', 'most', 'other', 'some', 'such', 'no', 'nor', 'not', 'only', 'own', 'same', 'so', 'than', 'too', 'very', 's', 't', 'can', 'will', 'just', 'don', 'should', 'now', 'd', 'll', 'm', 'o', 're', 've', 'y', 'ain', 'aren', 'couldn', 'didn', 'doesn', 'hadn', 'hasn', 'haven', 'isn', 'ma', 'mightn', 'mustn', 'needn', 'shan', 'shouldn', 'wasn', 'weren', 'won', 'wouldn']\n"
     ]
    }
   ],
   "source": [
    "print (stopwords.words(\"english\"))"
   ]
  },
  {
   "cell_type": "code",
   "execution_count": 13,
   "metadata": {},
   "outputs": [
    {
     "name": "stdout",
     "output_type": "stream",
     "text": [
      "['stuff', 'going', 'moment', 'mj', 'started', 'listening', 'music', 'watching', 'odd', 'documentary', 'watched', 'wiz', 'watched', 'moonwalker', 'maybe', 'want', 'get', 'certain', 'insight', 'guy', 'thought', 'really', 'cool', 'eighties', 'maybe', 'make', 'mind', 'whether', 'guilty', 'innocent', 'moonwalker', 'part', 'biography', 'part', 'feature', 'film', 'remember', 'going', 'see', 'cinema', 'originally', 'released', 'subtle', 'messages', 'mj', 'feeling', 'towards', 'press', 'also', 'obvious', 'message', 'drugs', 'bad', 'kay', 'visually', 'impressive', 'course', 'michael', 'jackson', 'unless', 'remotely', 'like', 'mj', 'anyway', 'going', 'hate', 'find', 'boring', 'may', 'call', 'mj', 'egotist', 'consenting', 'making', 'movie', 'mj', 'fans', 'would', 'say', 'made', 'fans', 'true', 'really', 'nice', 'actual', 'feature', 'film', 'bit', 'finally', 'starts', 'minutes', 'excluding', 'smooth', 'criminal', 'sequence', 'joe', 'pesci', 'convincing', 'psychopathic', 'powerful', 'drug', 'lord', 'wants', 'mj', 'dead', 'bad', 'beyond', 'mj', 'overheard', 'plans', 'nah', 'joe', 'pesci', 'character', 'ranted', 'wanted', 'people', 'know', 'supplying', 'drugs', 'etc', 'dunno', 'maybe', 'hates', 'mj', 'music', 'lots', 'cool', 'things', 'like', 'mj', 'turning', 'car', 'robot', 'whole', 'speed', 'demon', 'sequence', 'also', 'director', 'must', 'patience', 'saint', 'came', 'filming', 'kiddy', 'bad', 'sequence', 'usually', 'directors', 'hate', 'working', 'one', 'kid', 'let', 'alone', 'whole', 'bunch', 'performing', 'complex', 'dance', 'scene', 'bottom', 'line', 'movie', 'people', 'like', 'mj', 'one', 'level', 'another', 'think', 'people', 'stay', 'away', 'try', 'give', 'wholesome', 'message', 'ironically', 'mj', 'bestest', 'buddy', 'movie', 'girl', 'michael', 'jackson', 'truly', 'one', 'talented', 'people', 'ever', 'grace', 'planet', 'guilty', 'well', 'attention', 'gave', 'subject', 'hmmm', 'well', 'know', 'people', 'different', 'behind', 'closed', 'doors', 'know', 'fact', 'either', 'extremely', 'nice', 'stupid', 'guy', 'one', 'sickest', 'liars', 'hope', 'latter']\n"
     ]
    }
   ],
   "source": [
    "# Remove stop words from \"words\"\n",
    "words = [w for w in words if not w in stopwords.words(\"english\")]\n",
    "print (words)"
   ]
  },
  {
   "cell_type": "code",
   "execution_count": 14,
   "metadata": {},
   "outputs": [],
   "source": [
    "#Now we are going to do our first class\n",
    "class KaggleWord2VecUtility(object):\n",
    "    \"\"\"KaggleWord2VecUtility is a utility class for processing raw HTML text into segments for further learning\"\"\"\n",
    "\n",
    "    @staticmethod\n",
    "    def review_to_wordlist( review, remove_stopwords=False ):\n",
    "        # Function to convert a document to a sequence of words,\n",
    "        # optionally removing stop words.  Returns a list of words.\n",
    "        #\n",
    "        # 1. Remove HTML\n",
    "        review_text = BeautifulSoup(review,\"html.parser\"  ).get_text()\n",
    "        #\n",
    "        # 2. Remove non-letters\n",
    "        review_text = re.sub(\"[^a-zA-Z]\",\" \", review_text)\n",
    "        #\n",
    "        # 3. Convert words to lower case and split them\n",
    "        words = review_text.lower().split()\n",
    "        #\n",
    "        # 4. Optionally remove stop words (false by default)\n",
    "        if remove_stopwords:\n",
    "            stops = set(stopwords.words(\"english\"))\n",
    "            words = [w for w in words if not w in stops]\n",
    "        #\n",
    "        # 5. Return a list of words\n",
    "        return(words)\n",
    "\n",
    "    # Define a function to split a review into parsed sentences\n",
    "    @staticmethod\n",
    "    def review_to_sentences( review, tokenizer, remove_stopwords=False ):\n",
    "        # Function to split a review into parsed sentences. Returns a\n",
    "        # list of sentences, where each sentence is a list of words\n",
    "        #\n",
    "        # 1. Use the NLTK tokenizer to split the paragraph into sentences\n",
    "        raw_sentences = tokenizer.tokenize(review.strip())\n",
    "        #\n",
    "        # 2. Loop over each sentence\n",
    "        sentences = []\n",
    "        for raw_sentence in raw_sentences:\n",
    "            # If a sentence is empty, skip it\n",
    "            if len(raw_sentence) > 0:\n",
    "                # Otherwise, call review_to_wordlist to get a list of words\n",
    "                sentences.append( KaggleWord2VecUtility.review_to_wordlist( raw_sentence, remove_stopwords ))\n",
    "        #\n",
    "        # Return the list of sentences (each sentence is a list of words,\n",
    "        # so this returns a list of lists\n",
    "        return sentences\n",
    "\n"
   ]
  },
  {
   "cell_type": "code",
   "execution_count": 15,
   "metadata": {},
   "outputs": [],
   "source": [
    "clean_review_word = KaggleWord2VecUtility.review_to_wordlist \\\n",
    "        ( train[\"review\"][0], True )\n",
    "clean_review_sentence = KaggleWord2VecUtility.review_to_wordlist \\\n",
    "        ( train[\"review\"][0], True )\n"
   ]
  },
  {
   "cell_type": "code",
   "execution_count": 16,
   "metadata": {},
   "outputs": [],
   "source": [
    "# Get the number of reviews based on the dataframe column size\n",
    "num_reviews = train[\"review\"].size\n",
    "\n",
    "\n",
    "\n"
   ]
  },
  {
   "cell_type": "code",
   "execution_count": 17,
   "metadata": {},
   "outputs": [
    {
     "name": "stdout",
     "output_type": "stream",
     "text": [
      "Cleaning and parsing the training set movie reviews...\n",
      "\n",
      "Review 1000 of 25000\n",
      "\n",
      "Review 2000 of 25000\n",
      "\n",
      "Review 3000 of 25000\n",
      "\n",
      "Review 4000 of 25000\n",
      "\n",
      "Review 5000 of 25000\n",
      "\n",
      "Review 6000 of 25000\n",
      "\n",
      "Review 7000 of 25000\n",
      "\n",
      "Review 8000 of 25000\n",
      "\n",
      "Review 9000 of 25000\n",
      "\n",
      "Review 10000 of 25000\n",
      "\n",
      "Review 11000 of 25000\n",
      "\n",
      "Review 12000 of 25000\n",
      "\n",
      "Review 13000 of 25000\n",
      "\n",
      "Review 14000 of 25000\n",
      "\n",
      "Review 15000 of 25000\n",
      "\n",
      "Review 16000 of 25000\n",
      "\n",
      "Review 17000 of 25000\n",
      "\n",
      "Review 18000 of 25000\n",
      "\n",
      "Review 19000 of 25000\n",
      "\n",
      "Review 20000 of 25000\n",
      "\n",
      "Review 21000 of 25000\n",
      "\n",
      "Review 22000 of 25000\n",
      "\n",
      "Review 23000 of 25000\n",
      "\n",
      "Review 24000 of 25000\n",
      "\n",
      "Review 25000 of 25000\n",
      "\n"
     ]
    }
   ],
   "source": [
    "print (\"Cleaning and parsing the training set movie reviews...\\n\")\n",
    "clean_train_reviews = []\n",
    "for i in range( 0, len(train[\"review\"])):\n",
    "    if( (i+1)%1000 == 0 ):\n",
    "        print (\"Review %d of %d\\n\" % ( i+1, num_reviews )  )  \n",
    "    clean_train_reviews.append(\" \".join(KaggleWord2VecUtility.review_to_wordlist(train[\"review\"][i], True)))"
   ]
  },
  {
   "cell_type": "code",
   "execution_count": 18,
   "metadata": {},
   "outputs": [
    {
     "data": {
      "text/plain": [
       "['stuff going moment mj started listening music watching odd documentary watched wiz watched moonwalker maybe want get certain insight guy thought really cool eighties maybe make mind whether guilty innocent moonwalker part biography part feature film remember going see cinema originally released subtle messages mj feeling towards press also obvious message drugs bad kay visually impressive course michael jackson unless remotely like mj anyway going hate find boring may call mj egotist consenting making movie mj fans would say made fans true really nice actual feature film bit finally starts minutes excluding smooth criminal sequence joe pesci convincing psychopathic powerful drug lord wants mj dead bad beyond mj overheard plans nah joe pesci character ranted wanted people know supplying drugs etc dunno maybe hates mj music lots cool things like mj turning car robot whole speed demon sequence also director must patience saint came filming kiddy bad sequence usually directors hate working one kid let alone whole bunch performing complex dance scene bottom line movie people like mj one level another think people stay away try give wholesome message ironically mj bestest buddy movie girl michael jackson truly one talented people ever grace planet guilty well attention gave subject hmmm well know people different behind closed doors know fact either extremely nice stupid guy one sickest liars hope latter',\n",
       " 'classic war worlds timothy hines entertaining film obviously goes great effort lengths faithfully recreate h g wells classic book mr hines succeeds watched film appreciated fact standard predictable hollywood fare comes every year e g spielberg version tom cruise slightest resemblance book obviously everyone looks different things movie envision amateur critics look criticize everything others rate movie important bases like entertained people never agree critics enjoyed effort mr hines put faithful h g wells classic novel found entertaining made easy overlook critics perceive shortcomings',\n",
       " 'film starts manager nicholas bell giving welcome investors robert carradine primal park secret project mutating primal animal using fossilized dna like jurassik park scientists resurrect one nature fearsome predators sabretooth tiger smilodon scientific ambition turns deadly however high voltage fence opened creature escape begins savagely stalking prey human visitors tourists scientific meanwhile youngsters enter restricted area security center attacked pack large pre historical animals deadlier bigger addition security agent stacy haiduk mate brian wimmer fight hardly carnivorous smilodons sabretooths course real star stars astounding terrifyingly though convincing giant animals savagely stalking prey group run afoul fight one nature fearsome predators furthermore third sabretooth dangerous slow stalks victims movie delivers goods lots blood gore beheading hair raising chills full scares sabretooths appear mediocre special effects story provides exciting stirring entertainment results quite boring giant animals majority made computer generator seem totally lousy middling performances though players reacting appropriately becoming food actors give vigorously physical performances dodging beasts running bound leaps dangling walls packs ridiculous final deadly scene small kids realistic gory violent attack scenes films sabretooths smilodon following sabretooth james r hickox vanessa angel david keith john rhys davies much better bc roland emmerich steven strait cliff curtis camilla belle motion picture filled bloody moments badly directed george miller originality takes many elements previous films miller australian director usually working television tidal wave journey center earth many others occasionally cinema man snowy river zeus roxanne robinson crusoe rating average bottom barrel',\n",
       " 'must assumed praised film greatest filmed opera ever read somewhere either care opera care wagner care anything except desire appear cultured either representation wagner swan song movie strikes unmitigated disaster leaden reading score matched tricksy lugubrious realisation text questionable people ideas opera matter play especially one shakespeare allowed anywhere near theatre film studio syberberg fashionably without smallest justification wagner text decided parsifal bisexual integration title character latter stages transmutes kind beatnik babe though one continues sing high tenor actors film singers get double dose armin jordan conductor seen face heard voice amfortas also appears monstrously double exposure kind batonzilla conductor ate monsalvat playing good friday music way transcendant loveliness nature represented scattering shopworn flaccid crocuses stuck ill laid turf expedient baffles theatre sometimes piece imperfections thoughts think syberberg splice parsifal gurnemanz mountain pasture lush provided julie andrews sound music sound hard endure high voices trumpets particular possessing aural glare adds another sort fatigue impatience uninspired conducting paralytic unfolding ritual someone another review mentioned bayreuth recording knappertsbusch though tempi often slow jordan altogether lacks sense pulse feeling ebb flow music half century orchestral sound set modern pressings still superior film',\n",
       " 'superbly trashy wondrously unpretentious exploitation hooray pre credits opening sequences somewhat give false impression dealing serious harrowing drama need fear barely ten minutes later necks nonsensical chainsaw battles rough fist fights lurid dialogs gratuitous nudity bo ingrid two orphaned siblings unusually close even slightly perverted relationship imagine playfully ripping towel covers sister naked body stare unshaven genitals several whole minutes well bo sister judging dubbed laughter mind sick dude anyway kids fled russia parents nasty soldiers brutally slaughtered mommy daddy friendly smuggler took custody however even raised trained bo ingrid expert smugglers actual plot lifts years later facing ultimate quest mythical incredibly valuable white fire diamond coincidentally found mine things life ever made little sense plot narrative structure white fire sure lot fun watch time clue beating cause bet actors understood even less whatever violence magnificently grotesque every single plot twist pleasingly retarded script goes totally bonkers beyond repair suddenly reveal reason bo needs replacement ingrid fred williamson enters scene big cigar mouth sleazy black fingers local prostitutes bo principal opponent italian chick big breasts hideous accent preposterous catchy theme song plays least dozen times throughout film obligatory falling love montage loads attractions god brilliant experience original french title translates life survive uniquely appropriate makes much sense rest movie none']"
      ]
     },
     "execution_count": 18,
     "metadata": {},
     "output_type": "execute_result"
    }
   ],
   "source": [
    "clean_train_reviews[0:5]"
   ]
  },
  {
   "cell_type": "code",
   "execution_count": 19,
   "metadata": {},
   "outputs": [
    {
     "name": "stdout",
     "output_type": "stream",
     "text": [
      "Creating the bag of words...\n",
      "\n"
     ]
    }
   ],
   "source": [
    "print (\"Creating the bag of words...\\n\")\n",
    "from sklearn.feature_extraction.text import CountVectorizer\n",
    "# Initialize the \"CountVectorizer\" object, which is scikit-learn's\n",
    "# bag of words tool.  \n",
    "vectorizer = CountVectorizer(analyzer = \"word\",   \\\n",
    "                             tokenizer = None,    \\\n",
    "                             preprocessor = None, \\\n",
    "                             stop_words = None,   \\\n",
    "                             max_features = 5000) \n",
    "\n"
   ]
  },
  {
   "cell_type": "code",
   "execution_count": 20,
   "metadata": {},
   "outputs": [],
   "source": [
    "train_data_features = vectorizer.fit_transform(clean_train_reviews)"
   ]
  },
  {
   "cell_type": "code",
   "execution_count": 21,
   "metadata": {},
   "outputs": [],
   "source": [
    "train_data_features = train_data_features.toarray()"
   ]
  },
  {
   "cell_type": "code",
   "execution_count": 22,
   "metadata": {},
   "outputs": [
    {
     "name": "stdout",
     "output_type": "stream",
     "text": [
      "Training the random forest (this may take a while)...\n"
     ]
    }
   ],
   "source": [
    "print (\"Training the random forest (this may take a while)...\")\n",
    "\n",
    "# Initialize a Random Forest classifier with 100 trees\n",
    "forest = RandomForestClassifier(n_estimators = 100)\n",
    "  "
   ]
  },
  {
   "cell_type": "code",
   "execution_count": 23,
   "metadata": {},
   "outputs": [],
   "source": [
    "# Fit the forest to the training set, using the bag of words as\n",
    "# features and the sentiment labels as the response variable\n",
    "#\n",
    "# This may take a few minutes to run\n",
    "forest = forest.fit( train_data_features, train[\"sentiment\"] )"
   ]
  },
  {
   "cell_type": "code",
   "execution_count": 24,
   "metadata": {},
   "outputs": [
    {
     "name": "stdout",
     "output_type": "stream",
     "text": [
      "Cleaning and parsing the test set movie reviews...\n",
      "\n"
     ]
    }
   ],
   "source": [
    "# Create an empty list and append the clean reviews one by one\n",
    "clean_test_reviews = []\n",
    "\n",
    "print (\"Cleaning and parsing the test set movie reviews...\\n\")\n",
    "for i in range(0,len(test[\"review\"])):\n",
    "    clean_test_reviews.append(\" \".join(KaggleWord2VecUtility.review_to_wordlist(test[\"review\"][i], True)))\n"
   ]
  },
  {
   "cell_type": "code",
   "execution_count": 25,
   "metadata": {},
   "outputs": [],
   "source": [
    "\n",
    "# Get a bag of words for the test set, and convert to a numpy array\n",
    "test_data_features = vectorizer.transform(clean_test_reviews)\n",
    "test_data_features = test_data_features.toarray()\n"
   ]
  },
  {
   "cell_type": "code",
   "execution_count": 26,
   "metadata": {},
   "outputs": [
    {
     "name": "stdout",
     "output_type": "stream",
     "text": [
      "Predicting test labels...\n",
      "\n",
      "Wrote results to Bag_of_Words_model.csv\n"
     ]
    }
   ],
   "source": [
    "# Use the random forest to make sentiment label predictions\n",
    "print (\"Predicting test labels...\\n\")\n",
    "result = forest.predict(test_data_features)\n",
    "\n",
    "# Copy the results to a pandas dataframe with an \"id\" column and\n",
    "# a \"sentiment\" column\n",
    "output = pd.DataFrame( data={\"id\":test[\"id\"], \"sentiment\":result} )\n",
    "\n",
    "# Use pandas to write the comma-separated output file\n",
    "output.to_csv('Bag_of_Words_model.csv', index=False, quoting=3)\n",
    "print (\"Wrote results to Bag_of_Words_model.csv\")"
   ]
  },
  {
   "cell_type": "markdown",
   "metadata": {
    "collapsed": true
   },
   "source": [
    "### Word2Vec\n"
   ]
  },
  {
   "cell_type": "code",
   "execution_count": 27,
   "metadata": {},
   "outputs": [],
   "source": [
    "#!pip install gensim"
   ]
  },
  {
   "cell_type": "code",
   "execution_count": 28,
   "metadata": {},
   "outputs": [],
   "source": [
    "import pandas as pd\n",
    "import os\n",
    "from nltk.corpus import stopwords\n",
    "import nltk.data\n",
    "import logging\n",
    "import numpy as np  # Make sure that numpy is imported\n",
    "from gensim.models import Word2Vec\n",
    "from sklearn.ensemble import RandomForestClassifier"
   ]
  },
  {
   "cell_type": "code",
   "execution_count": null,
   "metadata": {},
   "outputs": [],
   "source": []
  },
  {
   "cell_type": "markdown",
   "metadata": {},
   "source": [
    "\"In lexical analysis, tokenization is the process of breaking a stream of text up into words, phrases, symbols, or other meaningful elements called tokens. The list of tokens becomes input for further processing such as parsing or text mining.\" -[Wikipedia](https://en.wikipedia.org/wiki/Tokenization_(lexical_analysis)\n",
    "\n",
    "Punkt is a specific tokenizer.\n",
    "[http://www.nltk.org/_modules/nltk/tokenize/punkt.html](http://www.nltk.org/_modules/nltk/tokenize/punkt.html) "
   ]
  },
  {
   "cell_type": "code",
   "execution_count": 29,
   "metadata": {},
   "outputs": [
    {
     "name": "stdout",
     "output_type": "stream",
     "text": [
      "[nltk_data] Downloading package punkt to /home/jovyan/nltk_data...\n",
      "[nltk_data]   Unzipping tokenizers/punkt.zip.\n"
     ]
    },
    {
     "data": {
      "text/plain": [
       "True"
      ]
     },
     "execution_count": 29,
     "metadata": {},
     "output_type": "execute_result"
    }
   ],
   "source": [
    "# download punkt\n",
    "nltk.download('punkt')"
   ]
  },
  {
   "cell_type": "code",
   "execution_count": 30,
   "metadata": {},
   "outputs": [],
   "source": [
    "#What is a tokenizer \n",
    "# http://www.nltk.org/_modules/nltk/tokenize/punkt.html \n",
    "tokenizer = nltk.data.load('tokenizers/punkt/english.pickle')"
   ]
  },
  {
   "cell_type": "code",
   "execution_count": 31,
   "metadata": {},
   "outputs": [
    {
     "name": "stdout",
     "output_type": "stream",
     "text": [
      "Parsing sentences from training set\n"
     ]
    },
    {
     "name": "stderr",
     "output_type": "stream",
     "text": [
      "/opt/conda/lib/python3.6/site-packages/bs4/__init__.py:219: UserWarning: \"b'.'\" looks like a filename, not markup. You should probably open this file and pass the filehandle into Beautiful Soup.\n",
      "  ' Beautiful Soup.' % markup)\n",
      "/opt/conda/lib/python3.6/site-packages/bs4/__init__.py:282: UserWarning: \"http://www.happierabroad.com\"\" looks like a URL. Beautiful Soup is not an HTTP client. You should probably use an HTTP client like requests to get the document behind the URL, and feed that document to Beautiful Soup.\n",
      "  ' that document to Beautiful Soup.' % decoded_markup\n"
     ]
    }
   ],
   "source": [
    "# ****** Split the labeled and unlabeled training sets into clean sentences\n",
    "# Note this will take a while and produce some warnings. \n",
    "sentences = []  # Initialize an empty list of sentences\n",
    "\n",
    "print (\"Parsing sentences from training set\")\n",
    "for review in train[\"review\"]:\n",
    "    sentences += KaggleWord2VecUtility.review_to_sentences(review, tokenizer)\n"
   ]
  },
  {
   "cell_type": "code",
   "execution_count": 32,
   "metadata": {},
   "outputs": [
    {
     "name": "stdout",
     "output_type": "stream",
     "text": [
      "Parsing sentences from unlabeled set\n"
     ]
    },
    {
     "name": "stderr",
     "output_type": "stream",
     "text": [
      "/opt/conda/lib/python3.6/site-packages/bs4/__init__.py:219: UserWarning: \"b'.'\" looks like a filename, not markup. You should probably open this file and pass the filehandle into Beautiful Soup.\n",
      "  ' Beautiful Soup.' % markup)\n",
      "/opt/conda/lib/python3.6/site-packages/bs4/__init__.py:282: UserWarning: \"http://www.archive.org/details/LovefromaStranger\"\" looks like a URL. Beautiful Soup is not an HTTP client. You should probably use an HTTP client like requests to get the document behind the URL, and feed that document to Beautiful Soup.\n",
      "  ' that document to Beautiful Soup.' % decoded_markup\n",
      "/opt/conda/lib/python3.6/site-packages/bs4/__init__.py:282: UserWarning: \"http://www.loosechangeguide.com/LooseChangeGuide.html\"\" looks like a URL. Beautiful Soup is not an HTTP client. You should probably use an HTTP client like requests to get the document behind the URL, and feed that document to Beautiful Soup.\n",
      "  ' that document to Beautiful Soup.' % decoded_markup\n",
      "/opt/conda/lib/python3.6/site-packages/bs4/__init__.py:282: UserWarning: \"http://www.msnbc.msn.com/id/4972055/site/newsweek/\"\" looks like a URL. Beautiful Soup is not an HTTP client. You should probably use an HTTP client like requests to get the document behind the URL, and feed that document to Beautiful Soup.\n",
      "  ' that document to Beautiful Soup.' % decoded_markup\n",
      "/opt/conda/lib/python3.6/site-packages/bs4/__init__.py:219: UserWarning: \"b'..'\" looks like a filename, not markup. You should probably open this file and pass the filehandle into Beautiful Soup.\n",
      "  ' Beautiful Soup.' % markup)\n",
      "/opt/conda/lib/python3.6/site-packages/bs4/__init__.py:282: UserWarning: \"http://www.youtube.com/watch?v=a0KSqelmgN8\"\" looks like a URL. Beautiful Soup is not an HTTP client. You should probably use an HTTP client like requests to get the document behind the URL, and feed that document to Beautiful Soup.\n",
      "  ' that document to Beautiful Soup.' % decoded_markup\n",
      "/opt/conda/lib/python3.6/site-packages/bs4/__init__.py:282: UserWarning: \"http://jake-weird.blogspot.com/2007/08/beneath.html\"\" looks like a URL. Beautiful Soup is not an HTTP client. You should probably use an HTTP client like requests to get the document behind the URL, and feed that document to Beautiful Soup.\n",
      "  ' that document to Beautiful Soup.' % decoded_markup\n"
     ]
    }
   ],
   "source": [
    "    print (\"Parsing sentences from unlabeled set\")\n",
    "    for review in unlabeled_train[\"review\"]:\n",
    "        sentences += KaggleWord2VecUtility.review_to_sentences(review, tokenizer)"
   ]
  },
  {
   "cell_type": "code",
   "execution_count": 33,
   "metadata": {},
   "outputs": [],
   "source": [
    "# ****** Define functions to create average word vectors\n",
    "#\n",
    "\n",
    "def makeFeatureVec(words, model, num_features):\n",
    "    # Function to average all of the word vectors in a given\n",
    "    # paragraph\n",
    "    #\n",
    "    # Pre-initialize an empty numpy array (for speed)\n",
    "    featureVec = np.zeros((num_features,),dtype=\"float32\")\n",
    "    #\n",
    "    nwords = 0.\n",
    "    #\n",
    "    # Index2word is a list that contains the names of the words in\n",
    "    # the model's vocabulary. Convert it to a set, for speed\n",
    "    index2word_set = set(model.wv.index2word)\n",
    "    #\n",
    "    # Loop over each word in the review and, if it is in the model's\n",
    "    # vocaublary, add its feature vector to the total\n",
    "    for word in words:\n",
    "        if word in index2word_set:\n",
    "            nwords = nwords + 1.\n",
    "            featureVec = np.add(featureVec,model[word])\n",
    "    #\n",
    "    # Divide the result by the number of words to get the average\n",
    "    featureVec = np.divide(featureVec,nwords)\n",
    "    return featureVec\n",
    "\n",
    "\n",
    "def getAvgFeatureVecs(reviews, model, num_features):\n",
    "    # Given a set of reviews (each one a list of words), calculate\n",
    "    # the average feature vector for each one and return a 2D numpy array\n",
    "    #\n",
    "    # Initialize a counter\n",
    "    counter = 0.\n",
    "    #\n",
    "    # Preallocate a 2D numpy array, for speed\n",
    "    reviewFeatureVecs = np.zeros((len(reviews),num_features),dtype=\"float32\")\n",
    "    #\n",
    "    # Loop through the reviews\n",
    "    for review in reviews:\n",
    "    # Print a status message every 1000th review\n",
    "       if counter%1000. == 0.:\n",
    "            print (\"Review %d of %d\" % (counter, len(reviews)))\n",
    "               # Call the function (defined above) that makes average feature vectors\n",
    "            reviewFeatureVecs[counter] = makeFeatureVec(review, model, num_features)\n",
    "            # Increment the counter\n",
    "            counter = counter + 1.\n",
    "    return reviewFeatureVecs\n",
    "\n",
    "\n",
    "def getCleanReviews(reviews):\n",
    "    clean_reviews = []\n",
    "    for review in reviews[\"review\"]:\n",
    "        clean_reviews.append( KaggleWord2VecUtility.review_to_wordlist( review, remove_stopwords=True ))\n",
    "    return clean_reviews"
   ]
  },
  {
   "cell_type": "code",
   "execution_count": 34,
   "metadata": {},
   "outputs": [],
   "source": [
    "logging.basicConfig(format='%(asctime)s : %(levelname)s : %(message)s',level=logging.INFO)\n",
    "\n",
    "# Set values for various parameters\n",
    "num_features = 300    # Word vector dimensionality\n",
    "min_word_count = 40   # Minimum word count\n",
    "num_workers = 4       # Number of threads to run in parallel\n",
    "context = 10          # Context window size\n",
    "downsampling = 1e-3   # Downsample setting for frequent words"
   ]
  },
  {
   "cell_type": "code",
   "execution_count": 35,
   "metadata": {},
   "outputs": [
    {
     "name": "stderr",
     "output_type": "stream",
     "text": [
      "2017-12-04 14:16:18,963 : INFO : collecting all words and their counts\n",
      "2017-12-04 14:16:18,966 : INFO : PROGRESS: at sentence #0, processed 0 words, keeping 0 word types\n",
      "2017-12-04 14:16:19,035 : INFO : PROGRESS: at sentence #10000, processed 225803 words, keeping 17776 word types\n",
      "2017-12-04 14:16:19,109 : INFO : PROGRESS: at sentence #20000, processed 451892 words, keeping 24948 word types\n"
     ]
    },
    {
     "name": "stdout",
     "output_type": "stream",
     "text": [
      "Training Word2Vec model...\n"
     ]
    },
    {
     "name": "stderr",
     "output_type": "stream",
     "text": [
      "2017-12-04 14:16:19,185 : INFO : PROGRESS: at sentence #30000, processed 671314 words, keeping 30034 word types\n",
      "2017-12-04 14:16:19,261 : INFO : PROGRESS: at sentence #40000, processed 897814 words, keeping 34348 word types\n",
      "2017-12-04 14:16:19,334 : INFO : PROGRESS: at sentence #50000, processed 1116962 words, keeping 37761 word types\n",
      "2017-12-04 14:16:19,406 : INFO : PROGRESS: at sentence #60000, processed 1338403 words, keeping 40723 word types\n",
      "2017-12-04 14:16:19,482 : INFO : PROGRESS: at sentence #70000, processed 1561579 words, keeping 43333 word types\n",
      "2017-12-04 14:16:19,558 : INFO : PROGRESS: at sentence #80000, processed 1780886 words, keeping 45714 word types\n",
      "2017-12-04 14:16:19,638 : INFO : PROGRESS: at sentence #90000, processed 2004995 words, keeping 48135 word types\n",
      "2017-12-04 14:16:19,715 : INFO : PROGRESS: at sentence #100000, processed 2226966 words, keeping 50207 word types\n",
      "2017-12-04 14:16:19,792 : INFO : PROGRESS: at sentence #110000, processed 2446580 words, keeping 52081 word types\n",
      "2017-12-04 14:16:19,870 : INFO : PROGRESS: at sentence #120000, processed 2668775 words, keeping 54119 word types\n",
      "2017-12-04 14:16:19,950 : INFO : PROGRESS: at sentence #130000, processed 2894303 words, keeping 55847 word types\n",
      "2017-12-04 14:16:20,024 : INFO : PROGRESS: at sentence #140000, processed 3107005 words, keeping 57346 word types\n",
      "2017-12-04 14:16:20,106 : INFO : PROGRESS: at sentence #150000, processed 3332627 words, keeping 59055 word types\n",
      "2017-12-04 14:16:20,184 : INFO : PROGRESS: at sentence #160000, processed 3555315 words, keeping 60617 word types\n",
      "2017-12-04 14:16:20,264 : INFO : PROGRESS: at sentence #170000, processed 3778655 words, keeping 62077 word types\n",
      "2017-12-04 14:16:20,341 : INFO : PROGRESS: at sentence #180000, processed 3999236 words, keeping 63496 word types\n",
      "2017-12-04 14:16:20,419 : INFO : PROGRESS: at sentence #190000, processed 4224449 words, keeping 64794 word types\n",
      "2017-12-04 14:16:20,496 : INFO : PROGRESS: at sentence #200000, processed 4448603 words, keeping 66087 word types\n",
      "2017-12-04 14:16:20,571 : INFO : PROGRESS: at sentence #210000, processed 4669967 words, keeping 67390 word types\n",
      "2017-12-04 14:16:20,646 : INFO : PROGRESS: at sentence #220000, processed 4894968 words, keeping 68697 word types\n",
      "2017-12-04 14:16:20,722 : INFO : PROGRESS: at sentence #230000, processed 5117545 words, keeping 69958 word types\n",
      "2017-12-04 14:16:20,802 : INFO : PROGRESS: at sentence #240000, processed 5345050 words, keeping 71167 word types\n",
      "2017-12-04 14:16:20,878 : INFO : PROGRESS: at sentence #250000, processed 5559165 words, keeping 72351 word types\n",
      "2017-12-04 14:16:20,956 : INFO : PROGRESS: at sentence #260000, processed 5779146 words, keeping 73478 word types\n",
      "2017-12-04 14:16:21,031 : INFO : PROGRESS: at sentence #270000, processed 6000435 words, keeping 74767 word types\n",
      "2017-12-04 14:16:21,112 : INFO : PROGRESS: at sentence #280000, processed 6226314 words, keeping 76369 word types\n",
      "2017-12-04 14:16:21,192 : INFO : PROGRESS: at sentence #290000, processed 6449474 words, keeping 77839 word types\n",
      "2017-12-04 14:16:21,272 : INFO : PROGRESS: at sentence #300000, processed 6674077 words, keeping 79171 word types\n",
      "2017-12-04 14:16:21,352 : INFO : PROGRESS: at sentence #310000, processed 6899391 words, keeping 80480 word types\n",
      "2017-12-04 14:16:21,435 : INFO : PROGRESS: at sentence #320000, processed 7124278 words, keeping 81808 word types\n",
      "2017-12-04 14:16:21,513 : INFO : PROGRESS: at sentence #330000, processed 7346021 words, keeping 83030 word types\n",
      "2017-12-04 14:16:21,596 : INFO : PROGRESS: at sentence #340000, processed 7575533 words, keeping 84280 word types\n",
      "2017-12-04 14:16:21,677 : INFO : PROGRESS: at sentence #350000, processed 7798803 words, keeping 85425 word types\n",
      "2017-12-04 14:16:21,761 : INFO : PROGRESS: at sentence #360000, processed 8019466 words, keeping 86596 word types\n",
      "2017-12-04 14:16:21,848 : INFO : PROGRESS: at sentence #370000, processed 8246654 words, keeping 87708 word types\n",
      "2017-12-04 14:16:21,932 : INFO : PROGRESS: at sentence #380000, processed 8471801 words, keeping 88878 word types\n",
      "2017-12-04 14:16:22,014 : INFO : PROGRESS: at sentence #390000, processed 8701551 words, keeping 89907 word types\n",
      "2017-12-04 14:16:22,094 : INFO : PROGRESS: at sentence #400000, processed 8924500 words, keeping 90916 word types\n",
      "2017-12-04 14:16:22,175 : INFO : PROGRESS: at sentence #410000, processed 9145850 words, keeping 91880 word types\n",
      "2017-12-04 14:16:22,252 : INFO : PROGRESS: at sentence #420000, processed 9366930 words, keeping 92912 word types\n",
      "2017-12-04 14:16:22,330 : INFO : PROGRESS: at sentence #430000, processed 9594467 words, keeping 93932 word types\n",
      "2017-12-04 14:16:22,408 : INFO : PROGRESS: at sentence #440000, processed 9821218 words, keeping 94906 word types\n",
      "2017-12-04 14:16:22,485 : INFO : PROGRESS: at sentence #450000, processed 10044980 words, keeping 96036 word types\n",
      "2017-12-04 14:16:22,566 : INFO : PROGRESS: at sentence #460000, processed 10277740 words, keeping 97088 word types\n",
      "2017-12-04 14:16:22,645 : INFO : PROGRESS: at sentence #470000, processed 10505665 words, keeping 97933 word types\n",
      "2017-12-04 14:16:22,722 : INFO : PROGRESS: at sentence #480000, processed 10726049 words, keeping 98862 word types\n",
      "2017-12-04 14:16:22,804 : INFO : PROGRESS: at sentence #490000, processed 10952793 words, keeping 99871 word types\n",
      "2017-12-04 14:16:22,884 : INFO : PROGRESS: at sentence #500000, processed 11174449 words, keeping 100765 word types\n",
      "2017-12-04 14:16:22,967 : INFO : PROGRESS: at sentence #510000, processed 11399724 words, keeping 101699 word types\n",
      "2017-12-04 14:16:23,051 : INFO : PROGRESS: at sentence #520000, processed 11623075 words, keeping 102598 word types\n",
      "2017-12-04 14:16:23,137 : INFO : PROGRESS: at sentence #530000, processed 11847473 words, keeping 103400 word types\n",
      "2017-12-04 14:16:23,216 : INFO : PROGRESS: at sentence #540000, processed 12072088 words, keeping 104265 word types\n",
      "2017-12-04 14:16:23,298 : INFO : PROGRESS: at sentence #550000, processed 12297639 words, keeping 105133 word types\n",
      "2017-12-04 14:16:23,375 : INFO : PROGRESS: at sentence #560000, processed 12518929 words, keeping 105997 word types\n",
      "2017-12-04 14:16:23,456 : INFO : PROGRESS: at sentence #570000, processed 12748076 words, keeping 106787 word types\n",
      "2017-12-04 14:16:23,532 : INFO : PROGRESS: at sentence #580000, processed 12969572 words, keeping 107665 word types\n",
      "2017-12-04 14:16:23,612 : INFO : PROGRESS: at sentence #590000, processed 13195097 words, keeping 108501 word types\n",
      "2017-12-04 14:16:23,687 : INFO : PROGRESS: at sentence #600000, processed 13417295 words, keeping 109218 word types\n",
      "2017-12-04 14:16:23,765 : INFO : PROGRESS: at sentence #610000, processed 13638318 words, keeping 110092 word types\n",
      "2017-12-04 14:16:23,848 : INFO : PROGRESS: at sentence #620000, processed 13864643 words, keeping 110837 word types\n",
      "2017-12-04 14:16:23,928 : INFO : PROGRESS: at sentence #630000, processed 14088929 words, keeping 111610 word types\n",
      "2017-12-04 14:16:24,014 : INFO : PROGRESS: at sentence #640000, processed 14309712 words, keeping 112416 word types\n",
      "2017-12-04 14:16:24,097 : INFO : PROGRESS: at sentence #650000, processed 14535468 words, keeping 113196 word types\n",
      "2017-12-04 14:16:24,181 : INFO : PROGRESS: at sentence #660000, processed 14758258 words, keeping 113945 word types\n",
      "2017-12-04 14:16:24,260 : INFO : PROGRESS: at sentence #670000, processed 14981651 words, keeping 114643 word types\n",
      "2017-12-04 14:16:24,340 : INFO : PROGRESS: at sentence #680000, processed 15206483 words, keeping 115354 word types\n",
      "2017-12-04 14:16:24,416 : INFO : PROGRESS: at sentence #690000, processed 15428676 words, keeping 116131 word types\n",
      "2017-12-04 14:16:24,496 : INFO : PROGRESS: at sentence #700000, processed 15657382 words, keeping 116943 word types\n",
      "2017-12-04 14:16:24,574 : INFO : PROGRESS: at sentence #710000, processed 15880371 words, keeping 117596 word types\n",
      "2017-12-04 14:16:24,663 : INFO : PROGRESS: at sentence #720000, processed 16105658 words, keeping 118221 word types\n",
      "2017-12-04 14:16:24,748 : INFO : PROGRESS: at sentence #730000, processed 16332039 words, keeping 118954 word types\n",
      "2017-12-04 14:16:24,829 : INFO : PROGRESS: at sentence #740000, processed 16553072 words, keeping 119668 word types\n"
     ]
    },
    {
     "name": "stderr",
     "output_type": "stream",
     "text": [
      "2017-12-04 14:16:24,905 : INFO : PROGRESS: at sentence #750000, processed 16771399 words, keeping 120295 word types\n",
      "2017-12-04 14:16:24,984 : INFO : PROGRESS: at sentence #760000, processed 16990803 words, keeping 120930 word types\n",
      "2017-12-04 14:16:25,065 : INFO : PROGRESS: at sentence #770000, processed 17217940 words, keeping 121703 word types\n",
      "2017-12-04 14:16:25,149 : INFO : PROGRESS: at sentence #780000, processed 17448086 words, keeping 122402 word types\n",
      "2017-12-04 14:16:25,229 : INFO : PROGRESS: at sentence #790000, processed 17675162 words, keeping 123066 word types\n",
      "2017-12-04 14:16:25,275 : INFO : collected 123504 word types from a corpus of 17798263 raw words and 795538 sentences\n",
      "2017-12-04 14:16:25,277 : INFO : Loading a fresh vocabulary\n",
      "2017-12-04 14:16:25,381 : INFO : min_count=40 retains 16490 unique words (13% of original 123504, drops 107014)\n",
      "2017-12-04 14:16:25,383 : INFO : min_count=40 leaves 17239118 word corpus (96% of original 17798263, drops 559145)\n",
      "2017-12-04 14:16:25,440 : INFO : deleting the raw counts dictionary of 123504 items\n",
      "2017-12-04 14:16:25,449 : INFO : sample=0.001 downsamples 48 most-common words\n",
      "2017-12-04 14:16:25,450 : INFO : downsampling leaves estimated 12749794 word corpus (74.0% of prior 17239118)\n",
      "2017-12-04 14:16:25,451 : INFO : estimated required memory for 16490 words and 300 dimensions: 47821000 bytes\n",
      "2017-12-04 14:16:25,541 : INFO : resetting layer weights\n",
      "2017-12-04 14:16:25,819 : INFO : training model with 4 workers on 16490 vocabulary and 300 features, using sg=0 hs=0 sample=0.001 negative=5 window=10\n",
      "2017-12-04 14:16:26,849 : INFO : PROGRESS: at 0.95% examples, 599330 words/s, in_qsize 7, out_qsize 0\n",
      "2017-12-04 14:16:27,857 : INFO : PROGRESS: at 1.90% examples, 597607 words/s, in_qsize 7, out_qsize 0\n",
      "2017-12-04 14:16:28,859 : INFO : PROGRESS: at 2.78% examples, 581980 words/s, in_qsize 7, out_qsize 0\n",
      "2017-12-04 14:16:29,859 : INFO : PROGRESS: at 3.64% examples, 572269 words/s, in_qsize 7, out_qsize 0\n",
      "2017-12-04 14:16:30,860 : INFO : PROGRESS: at 4.53% examples, 570646 words/s, in_qsize 7, out_qsize 0\n",
      "2017-12-04 14:16:31,862 : INFO : PROGRESS: at 5.37% examples, 564747 words/s, in_qsize 7, out_qsize 0\n",
      "2017-12-04 14:16:32,864 : INFO : PROGRESS: at 6.24% examples, 562400 words/s, in_qsize 7, out_qsize 0\n",
      "2017-12-04 14:16:33,877 : INFO : PROGRESS: at 7.15% examples, 562574 words/s, in_qsize 7, out_qsize 0\n",
      "2017-12-04 14:16:34,885 : INFO : PROGRESS: at 8.05% examples, 563927 words/s, in_qsize 7, out_qsize 0\n",
      "2017-12-04 14:16:35,892 : INFO : PROGRESS: at 8.94% examples, 563657 words/s, in_qsize 7, out_qsize 0\n",
      "2017-12-04 14:16:36,901 : INFO : PROGRESS: at 9.81% examples, 563276 words/s, in_qsize 7, out_qsize 0\n",
      "2017-12-04 14:16:37,901 : INFO : PROGRESS: at 10.69% examples, 562820 words/s, in_qsize 6, out_qsize 1\n",
      "2017-12-04 14:16:38,917 : INFO : PROGRESS: at 11.56% examples, 562232 words/s, in_qsize 8, out_qsize 1\n",
      "2017-12-04 14:16:39,921 : INFO : PROGRESS: at 12.46% examples, 563273 words/s, in_qsize 7, out_qsize 0\n",
      "2017-12-04 14:16:40,926 : INFO : PROGRESS: at 13.36% examples, 563734 words/s, in_qsize 7, out_qsize 0\n",
      "2017-12-04 14:16:41,928 : INFO : PROGRESS: at 14.22% examples, 562857 words/s, in_qsize 7, out_qsize 0\n",
      "2017-12-04 14:16:42,938 : INFO : PROGRESS: at 15.08% examples, 561792 words/s, in_qsize 7, out_qsize 0\n",
      "2017-12-04 14:16:43,958 : INFO : PROGRESS: at 15.97% examples, 561340 words/s, in_qsize 7, out_qsize 0\n",
      "2017-12-04 14:16:44,959 : INFO : PROGRESS: at 16.87% examples, 561881 words/s, in_qsize 8, out_qsize 1\n",
      "2017-12-04 14:16:45,971 : INFO : PROGRESS: at 17.77% examples, 562400 words/s, in_qsize 8, out_qsize 0\n",
      "2017-12-04 14:16:46,976 : INFO : PROGRESS: at 18.64% examples, 561721 words/s, in_qsize 7, out_qsize 0\n",
      "2017-12-04 14:16:47,984 : INFO : PROGRESS: at 19.52% examples, 561648 words/s, in_qsize 7, out_qsize 0\n",
      "2017-12-04 14:16:49,023 : INFO : PROGRESS: at 20.42% examples, 561485 words/s, in_qsize 7, out_qsize 0\n",
      "2017-12-04 14:16:50,027 : INFO : PROGRESS: at 21.13% examples, 556795 words/s, in_qsize 8, out_qsize 0\n",
      "2017-12-04 14:16:51,034 : INFO : PROGRESS: at 22.02% examples, 556666 words/s, in_qsize 7, out_qsize 0\n",
      "2017-12-04 14:16:52,049 : INFO : PROGRESS: at 22.87% examples, 555592 words/s, in_qsize 8, out_qsize 0\n",
      "2017-12-04 14:16:53,058 : INFO : PROGRESS: at 23.77% examples, 556015 words/s, in_qsize 7, out_qsize 0\n",
      "2017-12-04 14:16:54,067 : INFO : PROGRESS: at 24.67% examples, 556169 words/s, in_qsize 7, out_qsize 0\n",
      "2017-12-04 14:16:55,069 : INFO : PROGRESS: at 25.55% examples, 556417 words/s, in_qsize 7, out_qsize 0\n",
      "2017-12-04 14:16:56,103 : INFO : PROGRESS: at 26.43% examples, 555605 words/s, in_qsize 7, out_qsize 0\n",
      "2017-12-04 14:16:57,119 : INFO : PROGRESS: at 27.30% examples, 555365 words/s, in_qsize 7, out_qsize 0\n",
      "2017-12-04 14:16:58,141 : INFO : PROGRESS: at 28.17% examples, 555069 words/s, in_qsize 7, out_qsize 0\n",
      "2017-12-04 14:16:59,148 : INFO : PROGRESS: at 29.08% examples, 555685 words/s, in_qsize 7, out_qsize 0\n",
      "2017-12-04 14:17:00,152 : INFO : PROGRESS: at 29.98% examples, 556314 words/s, in_qsize 7, out_qsize 0\n",
      "2017-12-04 14:17:01,159 : INFO : PROGRESS: at 30.85% examples, 556243 words/s, in_qsize 8, out_qsize 0\n",
      "2017-12-04 14:17:02,173 : INFO : PROGRESS: at 31.74% examples, 556451 words/s, in_qsize 7, out_qsize 0\n",
      "2017-12-04 14:17:03,177 : INFO : PROGRESS: at 32.62% examples, 556617 words/s, in_qsize 7, out_qsize 0\n",
      "2017-12-04 14:17:04,180 : INFO : PROGRESS: at 33.48% examples, 556428 words/s, in_qsize 7, out_qsize 0\n",
      "2017-12-04 14:17:05,180 : INFO : PROGRESS: at 34.28% examples, 555193 words/s, in_qsize 7, out_qsize 0\n",
      "2017-12-04 14:17:06,184 : INFO : PROGRESS: at 35.11% examples, 554500 words/s, in_qsize 7, out_qsize 0\n",
      "2017-12-04 14:17:07,197 : INFO : PROGRESS: at 35.96% examples, 554056 words/s, in_qsize 7, out_qsize 0\n",
      "2017-12-04 14:17:08,224 : INFO : PROGRESS: at 36.86% examples, 554124 words/s, in_qsize 5, out_qsize 2\n",
      "2017-12-04 14:17:09,236 : INFO : PROGRESS: at 37.69% examples, 553552 words/s, in_qsize 7, out_qsize 0\n",
      "2017-12-04 14:17:10,258 : INFO : PROGRESS: at 38.56% examples, 553214 words/s, in_qsize 7, out_qsize 0\n",
      "2017-12-04 14:17:11,267 : INFO : PROGRESS: at 39.48% examples, 553828 words/s, in_qsize 7, out_qsize 0\n",
      "2017-12-04 14:17:12,281 : INFO : PROGRESS: at 40.37% examples, 554066 words/s, in_qsize 7, out_qsize 0\n",
      "2017-12-04 14:17:13,285 : INFO : PROGRESS: at 41.25% examples, 554098 words/s, in_qsize 7, out_qsize 0\n",
      "2017-12-04 14:17:14,293 : INFO : PROGRESS: at 42.15% examples, 554367 words/s, in_qsize 7, out_qsize 0\n",
      "2017-12-04 14:17:15,300 : INFO : PROGRESS: at 43.06% examples, 554666 words/s, in_qsize 7, out_qsize 0\n",
      "2017-12-04 14:17:16,310 : INFO : PROGRESS: at 43.98% examples, 555040 words/s, in_qsize 7, out_qsize 0\n",
      "2017-12-04 14:17:17,319 : INFO : PROGRESS: at 44.87% examples, 555141 words/s, in_qsize 7, out_qsize 0\n",
      "2017-12-04 14:17:18,326 : INFO : PROGRESS: at 45.75% examples, 555232 words/s, in_qsize 7, out_qsize 0\n",
      "2017-12-04 14:17:19,336 : INFO : PROGRESS: at 46.65% examples, 555298 words/s, in_qsize 7, out_qsize 0\n",
      "2017-12-04 14:17:20,339 : INFO : PROGRESS: at 47.48% examples, 554790 words/s, in_qsize 8, out_qsize 0\n",
      "2017-12-04 14:17:21,339 : INFO : PROGRESS: at 48.23% examples, 553420 words/s, in_qsize 7, out_qsize 0\n",
      "2017-12-04 14:17:22,351 : INFO : PROGRESS: at 49.11% examples, 553508 words/s, in_qsize 7, out_qsize 0\n",
      "2017-12-04 14:17:23,367 : INFO : PROGRESS: at 50.01% examples, 553802 words/s, in_qsize 7, out_qsize 0\n",
      "2017-12-04 14:17:24,376 : INFO : PROGRESS: at 50.91% examples, 554022 words/s, in_qsize 7, out_qsize 0\n",
      "2017-12-04 14:17:25,382 : INFO : PROGRESS: at 51.80% examples, 554388 words/s, in_qsize 7, out_qsize 0\n",
      "2017-12-04 14:17:26,386 : INFO : PROGRESS: at 52.73% examples, 555001 words/s, in_qsize 7, out_qsize 0\n",
      "2017-12-04 14:17:27,398 : INFO : PROGRESS: at 53.58% examples, 554710 words/s, in_qsize 6, out_qsize 1\n",
      "2017-12-04 14:17:28,408 : INFO : PROGRESS: at 54.44% examples, 554555 words/s, in_qsize 7, out_qsize 0\n",
      "2017-12-04 14:17:29,426 : INFO : PROGRESS: at 55.34% examples, 554681 words/s, in_qsize 8, out_qsize 0\n",
      "2017-12-04 14:17:30,434 : INFO : PROGRESS: at 56.23% examples, 554767 words/s, in_qsize 7, out_qsize 0\n",
      "2017-12-04 14:17:31,450 : INFO : PROGRESS: at 57.12% examples, 554801 words/s, in_qsize 7, out_qsize 0\n"
     ]
    },
    {
     "name": "stderr",
     "output_type": "stream",
     "text": [
      "2017-12-04 14:17:32,452 : INFO : PROGRESS: at 57.94% examples, 554401 words/s, in_qsize 7, out_qsize 0\n",
      "2017-12-04 14:17:33,459 : INFO : PROGRESS: at 58.82% examples, 554396 words/s, in_qsize 8, out_qsize 0\n",
      "2017-12-04 14:17:34,466 : INFO : PROGRESS: at 59.72% examples, 554708 words/s, in_qsize 7, out_qsize 0\n",
      "2017-12-04 14:17:35,472 : INFO : PROGRESS: at 60.63% examples, 555010 words/s, in_qsize 8, out_qsize 0\n",
      "2017-12-04 14:17:36,486 : INFO : PROGRESS: at 61.57% examples, 555441 words/s, in_qsize 7, out_qsize 0\n",
      "2017-12-04 14:17:37,492 : INFO : PROGRESS: at 62.46% examples, 555526 words/s, in_qsize 7, out_qsize 0\n",
      "2017-12-04 14:17:38,496 : INFO : PROGRESS: at 63.35% examples, 555544 words/s, in_qsize 8, out_qsize 0\n",
      "2017-12-04 14:17:39,509 : INFO : PROGRESS: at 64.21% examples, 555369 words/s, in_qsize 7, out_qsize 0\n",
      "2017-12-04 14:17:40,513 : INFO : PROGRESS: at 65.09% examples, 555377 words/s, in_qsize 7, out_qsize 0\n",
      "2017-12-04 14:17:41,520 : INFO : PROGRESS: at 66.00% examples, 555639 words/s, in_qsize 7, out_qsize 0\n",
      "2017-12-04 14:17:42,527 : INFO : PROGRESS: at 66.87% examples, 555418 words/s, in_qsize 7, out_qsize 0\n",
      "2017-12-04 14:17:43,541 : INFO : PROGRESS: at 67.72% examples, 555170 words/s, in_qsize 7, out_qsize 0\n",
      "2017-12-04 14:17:44,546 : INFO : PROGRESS: at 68.58% examples, 555170 words/s, in_qsize 7, out_qsize 0\n",
      "2017-12-04 14:17:45,552 : INFO : PROGRESS: at 69.46% examples, 555153 words/s, in_qsize 6, out_qsize 1\n",
      "2017-12-04 14:17:46,560 : INFO : PROGRESS: at 70.36% examples, 555396 words/s, in_qsize 8, out_qsize 0\n",
      "2017-12-04 14:17:47,561 : INFO : PROGRESS: at 71.22% examples, 555323 words/s, in_qsize 8, out_qsize 0\n",
      "2017-12-04 14:17:48,564 : INFO : PROGRESS: at 72.12% examples, 555586 words/s, in_qsize 7, out_qsize 0\n",
      "2017-12-04 14:17:49,580 : INFO : PROGRESS: at 73.05% examples, 555932 words/s, in_qsize 7, out_qsize 0\n",
      "2017-12-04 14:17:50,597 : INFO : PROGRESS: at 73.86% examples, 555419 words/s, in_qsize 6, out_qsize 1\n",
      "2017-12-04 14:17:51,598 : INFO : PROGRESS: at 74.60% examples, 554442 words/s, in_qsize 7, out_qsize 0\n",
      "2017-12-04 14:17:52,603 : INFO : PROGRESS: at 75.46% examples, 554368 words/s, in_qsize 7, out_qsize 0\n",
      "2017-12-04 14:17:53,606 : INFO : PROGRESS: at 76.36% examples, 554549 words/s, in_qsize 8, out_qsize 0\n",
      "2017-12-04 14:17:54,608 : INFO : PROGRESS: at 77.27% examples, 554809 words/s, in_qsize 7, out_qsize 0\n",
      "2017-12-04 14:17:55,617 : INFO : PROGRESS: at 78.15% examples, 554868 words/s, in_qsize 7, out_qsize 0\n",
      "2017-12-04 14:17:56,626 : INFO : PROGRESS: at 79.05% examples, 554922 words/s, in_qsize 7, out_qsize 0\n",
      "2017-12-04 14:17:57,628 : INFO : PROGRESS: at 79.87% examples, 554634 words/s, in_qsize 7, out_qsize 0\n",
      "2017-12-04 14:17:58,640 : INFO : PROGRESS: at 80.72% examples, 554443 words/s, in_qsize 7, out_qsize 0\n",
      "2017-12-04 14:17:59,649 : INFO : PROGRESS: at 81.65% examples, 554723 words/s, in_qsize 7, out_qsize 0\n",
      "2017-12-04 14:18:00,649 : INFO : PROGRESS: at 82.55% examples, 554908 words/s, in_qsize 7, out_qsize 0\n",
      "2017-12-04 14:18:01,653 : INFO : PROGRESS: at 83.45% examples, 554999 words/s, in_qsize 7, out_qsize 0\n",
      "2017-12-04 14:18:02,672 : INFO : PROGRESS: at 84.31% examples, 554837 words/s, in_qsize 7, out_qsize 0\n",
      "2017-12-04 14:18:03,692 : INFO : PROGRESS: at 85.21% examples, 554905 words/s, in_qsize 7, out_qsize 0\n",
      "2017-12-04 14:18:04,719 : INFO : PROGRESS: at 86.09% examples, 554775 words/s, in_qsize 7, out_qsize 0\n",
      "2017-12-04 14:18:05,742 : INFO : PROGRESS: at 86.94% examples, 554461 words/s, in_qsize 7, out_qsize 0\n",
      "2017-12-04 14:18:06,745 : INFO : PROGRESS: at 87.82% examples, 554482 words/s, in_qsize 7, out_qsize 0\n",
      "2017-12-04 14:18:07,761 : INFO : PROGRESS: at 88.69% examples, 554493 words/s, in_qsize 7, out_qsize 0\n",
      "2017-12-04 14:18:08,771 : INFO : PROGRESS: at 89.53% examples, 554259 words/s, in_qsize 7, out_qsize 0\n",
      "2017-12-04 14:18:09,781 : INFO : PROGRESS: at 90.39% examples, 554111 words/s, in_qsize 7, out_qsize 0\n",
      "2017-12-04 14:18:10,790 : INFO : PROGRESS: at 91.28% examples, 554229 words/s, in_qsize 7, out_qsize 0\n",
      "2017-12-04 14:18:11,809 : INFO : PROGRESS: at 92.16% examples, 554300 words/s, in_qsize 7, out_qsize 0\n",
      "2017-12-04 14:18:12,814 : INFO : PROGRESS: at 93.06% examples, 554445 words/s, in_qsize 7, out_qsize 0\n",
      "2017-12-04 14:18:13,817 : INFO : PROGRESS: at 93.93% examples, 554461 words/s, in_qsize 6, out_qsize 1\n",
      "2017-12-04 14:18:14,828 : INFO : PROGRESS: at 94.83% examples, 554627 words/s, in_qsize 7, out_qsize 0\n",
      "2017-12-04 14:18:15,838 : INFO : PROGRESS: at 95.76% examples, 554866 words/s, in_qsize 7, out_qsize 0\n",
      "2017-12-04 14:18:16,849 : INFO : PROGRESS: at 96.70% examples, 555225 words/s, in_qsize 7, out_qsize 0\n",
      "2017-12-04 14:18:17,865 : INFO : PROGRESS: at 97.57% examples, 555171 words/s, in_qsize 7, out_qsize 0\n",
      "2017-12-04 14:18:18,875 : INFO : PROGRESS: at 98.43% examples, 555080 words/s, in_qsize 7, out_qsize 0\n",
      "2017-12-04 14:18:19,880 : INFO : PROGRESS: at 99.34% examples, 555200 words/s, in_qsize 8, out_qsize 0\n",
      "2017-12-04 14:18:20,576 : INFO : worker thread finished; awaiting finish of 3 more threads\n",
      "2017-12-04 14:18:20,588 : INFO : worker thread finished; awaiting finish of 2 more threads\n",
      "2017-12-04 14:18:20,602 : INFO : worker thread finished; awaiting finish of 1 more threads\n",
      "2017-12-04 14:18:20,613 : INFO : worker thread finished; awaiting finish of 0 more threads\n",
      "2017-12-04 14:18:20,615 : INFO : training on 88991315 raw words (63747235 effective words) took 114.8s, 555383 effective words/s\n"
     ]
    }
   ],
   "source": [
    "# Initialize and train the model (this will take some time)\n",
    "print (\"Training Word2Vec model...\")\n",
    "model = Word2Vec(sentences, workers=num_workers, \\\n",
    "            size=num_features, min_count = min_word_count, \\\n",
    "            window = context, sample = downsampling, seed=1)"
   ]
  },
  {
   "cell_type": "code",
   "execution_count": 36,
   "metadata": {},
   "outputs": [
    {
     "name": "stderr",
     "output_type": "stream",
     "text": [
      "2017-12-04 14:18:20,623 : INFO : precomputing L2-norms of word weight vectors\n"
     ]
    }
   ],
   "source": [
    "# If you don't plan to train the model any further, calling\n",
    "# init_sims will make the model much more memory-efficient.\n",
    "model.init_sims(replace=True)\n",
    "\n"
   ]
  },
  {
   "cell_type": "code",
   "execution_count": 37,
   "metadata": {},
   "outputs": [
    {
     "name": "stderr",
     "output_type": "stream",
     "text": [
      "2017-12-04 14:18:20,745 : INFO : saving Word2Vec object under 300features_40minwords_10context, separately None\n",
      "2017-12-04 14:18:20,748 : INFO : not storing attribute syn0norm\n",
      "2017-12-04 14:18:20,751 : INFO : not storing attribute cum_table\n",
      "2017-12-04 14:18:21,426 : INFO : saved 300features_40minwords_10context\n"
     ]
    },
    {
     "data": {
      "text/plain": [
       "'kitchen'"
      ]
     },
     "execution_count": 37,
     "metadata": {},
     "output_type": "execute_result"
    }
   ],
   "source": [
    "# It can be helpful to create a meaningful model name and\n",
    "# save the model for later use. You can load it later using Word2Vec.load()\n",
    "model_name = \"300features_40minwords_10context\"\n",
    "model.save(model_name)\n",
    "\n",
    "model.doesnt_match(\"man woman child kitchen\".split())\n",
    "\n"
   ]
  },
  {
   "cell_type": "code",
   "execution_count": 38,
   "metadata": {},
   "outputs": [
    {
     "data": {
      "text/plain": [
       "'soccer'"
      ]
     },
     "execution_count": 38,
     "metadata": {},
     "output_type": "execute_result"
    }
   ],
   "source": [
    "model.doesnt_match(\"france england germany soccer\".split())\n"
   ]
  },
  {
   "cell_type": "code",
   "execution_count": 39,
   "metadata": {},
   "outputs": [
    {
     "data": {
      "text/plain": [
       "[('football', 0.8058714866638184),\n",
       " ('basketball', 0.7078469395637512),\n",
       " ('baseball', 0.660082221031189),\n",
       " ('poker', 0.602813720703125),\n",
       " ('hockey', 0.5837126970291138),\n",
       " ('wrestling', 0.5702486634254456),\n",
       " ('shaolin', 0.5629345774650574),\n",
       " ('sports', 0.562635064125061),\n",
       " ('coach', 0.5586018562316895),\n",
       " ('chess', 0.5561162233352661)]"
      ]
     },
     "execution_count": 39,
     "metadata": {},
     "output_type": "execute_result"
    }
   ],
   "source": [
    "model.most_similar(\"soccer\")"
   ]
  },
  {
   "cell_type": "code",
   "execution_count": 40,
   "metadata": {},
   "outputs": [
    {
     "data": {
      "text/plain": [
       "[('woman', 0.626766562461853),\n",
       " ('lady', 0.615524411201477),\n",
       " ('lad', 0.5628026723861694),\n",
       " ('businessman', 0.5256783366203308),\n",
       " ('monk', 0.523580014705658),\n",
       " ('guy', 0.5223524570465088),\n",
       " ('men', 0.5216269493103027),\n",
       " ('millionaire', 0.5188726186752319),\n",
       " ('person', 0.49897968769073486),\n",
       " ('boy', 0.4951506555080414)]"
      ]
     },
     "execution_count": 40,
     "metadata": {},
     "output_type": "execute_result"
    }
   ],
   "source": [
    "model.most_similar(\"man\")"
   ]
  },
  {
   "cell_type": "code",
   "execution_count": 41,
   "metadata": {},
   "outputs": [
    {
     "data": {
      "text/plain": [
       "array([ -5.91147952e-02,  -3.44899520e-02,  -2.45185191e-04,\n",
       "         8.68700370e-02,  -2.48731822e-02,  -8.83342922e-02,\n",
       "         5.65314256e-02,   5.57818636e-02,  -9.83514171e-03,\n",
       "        -3.34338434e-02,  -8.98361728e-02,  -3.00597399e-02,\n",
       "         4.68104780e-02,   8.52110535e-02,   3.27721275e-02,\n",
       "         6.14302745e-03,  -8.85524154e-02,   9.71228331e-02,\n",
       "        -4.43680808e-02,   1.26444161e-01,   3.62907723e-02,\n",
       "         6.06430471e-02,  -1.04446523e-02,  -6.31649718e-02,\n",
       "         9.27746743e-02,  -1.34493480e-03,  -4.96417396e-02,\n",
       "        -1.03354372e-01,   5.32339327e-02,   8.46155211e-02,\n",
       "        -1.01224529e-02,  -7.41985589e-02,  -3.00516635e-02,\n",
       "         1.12062737e-01,   1.04944119e-02,   5.64037822e-02,\n",
       "         2.81863976e-02,  -6.49562478e-02,  -5.91108873e-02,\n",
       "         6.64753690e-02,   4.36288752e-02,  -2.80346833e-02,\n",
       "         5.17095439e-02,   4.76429984e-02,  -1.72620188e-04,\n",
       "         3.19770835e-02,   7.58196414e-02,  -1.08765010e-02,\n",
       "        -6.85802698e-02,  -3.75238843e-02,   6.79763928e-02,\n",
       "         9.25863534e-02,  -2.45187413e-02,   6.34358302e-02,\n",
       "        -2.03137733e-02,  -5.19031994e-02,   4.53947559e-02,\n",
       "        -4.87451032e-02,   3.01602427e-02,  -1.33322934e-02,\n",
       "         3.68817039e-02,  -5.06845564e-02,  -6.04044572e-02,\n",
       "        -6.57122806e-02,  -4.09692004e-02,  -7.52000045e-03,\n",
       "         5.19089662e-02,  -6.27238955e-03,   3.25879455e-02,\n",
       "        -3.63404788e-02,   9.16107520e-02,   1.01126611e-01,\n",
       "        -1.16849042e-01,  -6.97692186e-02,   6.69024000e-03,\n",
       "        -7.55470097e-02,   7.84321874e-03,  -1.73702613e-02,\n",
       "        -5.14189526e-02,   1.78266391e-02,   3.71028595e-02,\n",
       "        -1.38576226e-02,  -3.88843305e-02,  -5.64433821e-02,\n",
       "        -1.42457694e-01,   3.72971445e-02,  -1.49470260e-02,\n",
       "         7.49170482e-02,   3.57316062e-02,   5.08683957e-02,\n",
       "        -5.45459017e-02,   5.21403104e-02,   1.81753316e-03,\n",
       "        -1.57134049e-02,   7.70120546e-02,   2.72275563e-02,\n",
       "        -2.29230989e-02,   8.31907392e-02,  -8.85036364e-02,\n",
       "         7.45312870e-02,   3.53231881e-04,  -2.21619383e-02,\n",
       "        -4.97005507e-02,  -3.31168920e-02,  -1.94574390e-02,\n",
       "        -2.51770602e-03,   6.41767904e-02,   8.81068781e-02,\n",
       "         2.61687580e-02,   4.05227765e-02,   1.62561536e-02,\n",
       "        -2.16786331e-03,   1.16908923e-02,  -4.85913344e-02,\n",
       "        -2.39438731e-02,  -5.17413989e-02,   1.59343425e-02,\n",
       "        -3.58969085e-02,   2.24630814e-02,  -1.21608935e-02,\n",
       "         5.50680049e-02,  -2.50084512e-02,  -1.12645905e-02,\n",
       "         9.70694702e-03,  -2.08223779e-02,  -1.13325929e-02,\n",
       "        -6.79859221e-02,  -9.62272063e-02,  -5.89272939e-02,\n",
       "        -2.18855939e-03,   6.24796003e-02,  -1.62846595e-01,\n",
       "        -3.34789511e-03,   6.66190907e-02,  -5.26978262e-03,\n",
       "        -7.89174363e-02,   1.33436015e-02,   1.48084328e-01,\n",
       "         1.06848635e-01,  -2.16680747e-02,   2.75693908e-02,\n",
       "         9.35780630e-02,  -6.43877089e-02,  -2.10798122e-02,\n",
       "        -6.22809120e-02,   8.98862928e-02,  -2.02107150e-02,\n",
       "         1.05710238e-01,  -1.00423306e-01,  -5.15705161e-02,\n",
       "         1.39296975e-03,   4.03550640e-03,   3.17716338e-02,\n",
       "         5.43383248e-02,   2.33293641e-02,  -3.13214324e-02,\n",
       "         5.58526106e-02,  -8.52974784e-03,   8.81289225e-03,\n",
       "         3.05538271e-02,  -6.56832010e-02,  -4.18543965e-02,\n",
       "         2.92515382e-02,  -2.21253224e-02,  -2.28473861e-02,\n",
       "        -8.88723508e-02,  -1.11150727e-01,  -1.06997136e-02,\n",
       "         2.23436463e-03,   8.15597847e-02,  -5.52395396e-02,\n",
       "         7.16040060e-02,   8.75092596e-02,  -8.27298313e-02,\n",
       "         1.62771251e-02,  -1.09386295e-01,   9.40608792e-03,\n",
       "         2.47568581e-02,  -3.82984541e-02,  -2.16906704e-02,\n",
       "        -1.93713084e-01,  -9.09963176e-02,  -1.75127313e-01,\n",
       "        -2.53883060e-02,  -3.77063788e-02,  -1.12033464e-01,\n",
       "         9.48425289e-03,  -1.33949533e-01,  -7.93881714e-02,\n",
       "        -4.41882983e-02,  -5.16449474e-02,   7.65071884e-02,\n",
       "        -5.33543788e-02,   2.24224813e-02,  -3.16895097e-02,\n",
       "        -5.46466038e-02,   2.59041251e-03,  -3.46070565e-02,\n",
       "         1.80841908e-02,  -3.41458246e-02,   2.64567956e-02,\n",
       "         5.25417402e-02,   1.78559609e-02,   1.57249123e-02,\n",
       "        -3.65323462e-02,   9.94131789e-02,   2.26417761e-02,\n",
       "        -4.82737226e-03,  -4.36363220e-02,  -2.73209531e-02,\n",
       "         1.11717479e-02,  -1.79732963e-02,   4.82064411e-02,\n",
       "        -2.62378305e-02,  -1.10691627e-02,  -6.16722694e-03,\n",
       "        -6.07783757e-02,   6.51666373e-02,   2.26672087e-03,\n",
       "        -9.81014594e-02,   1.34534051e-03,   2.92569865e-03,\n",
       "        -6.46187067e-02,   1.88695118e-02,   4.07703444e-02,\n",
       "        -4.15378436e-02,  -1.89081263e-02,   3.28901447e-02,\n",
       "        -1.08456686e-01,  -2.14291718e-02,   7.60646909e-02,\n",
       "         4.20171022e-02,  -6.78352863e-02,   1.41523108e-01,\n",
       "         6.46803007e-02,  -3.38094644e-02,  -5.32182753e-02,\n",
       "        -2.64626313e-02,  -5.15696928e-02,   2.18935218e-03,\n",
       "         1.24960570e-02,   1.53033147e-02,   5.48469499e-02,\n",
       "         1.60713727e-03,  -9.74174365e-02,   3.29368301e-02,\n",
       "         2.56529953e-02,   8.11522827e-03,   2.76964866e-02,\n",
       "         8.56327415e-02,   2.17751507e-02,   2.82864273e-02,\n",
       "        -2.97382437e-02,  -5.98196648e-02,   3.50034945e-02,\n",
       "        -4.13247943e-02,   3.09931226e-02,  -5.53699583e-02,\n",
       "        -1.52527824e-01,  -7.77315274e-02,   2.99171684e-03,\n",
       "         5.89876994e-02,   6.16186671e-02,  -9.27924812e-02,\n",
       "         1.25689176e-03,   1.01743275e-02,  -3.99900824e-02,\n",
       "         4.64224033e-02,  -3.44051681e-02,   1.64885819e-03,\n",
       "         1.11484826e-02,  -9.10083950e-02,  -7.61323348e-02,\n",
       "        -8.85519385e-03,   1.06472364e-02,  -4.26658206e-02,\n",
       "         4.02233340e-02,  -7.10799079e-03,  -9.19323415e-03,\n",
       "        -2.10259445e-02,   4.86216322e-02,   1.19838538e-02,\n",
       "        -1.04044408e-01,  -2.88163908e-02,  -8.42448696e-02,\n",
       "        -1.67673640e-02,   2.60356255e-02,  -3.40337097e-03,\n",
       "        -1.67768039e-02,  -3.96468677e-02,  -3.02758478e-02,\n",
       "         4.63218987e-03,   7.99294859e-02,   3.06695364e-02,\n",
       "         7.84212500e-02,  -6.69809580e-02,  -6.21008053e-02,\n",
       "         3.56149785e-02,   3.63525189e-02,   8.32931548e-02], dtype=float32)"
      ]
     },
     "execution_count": 41,
     "metadata": {},
     "output_type": "execute_result"
    }
   ],
   "source": [
    "model[\"computer\"]"
   ]
  },
  {
   "cell_type": "code",
   "execution_count": 42,
   "metadata": {},
   "outputs": [
    {
     "data": {
      "text/plain": [
       "[('truck', 0.7491682767868042),\n",
       " ('bus', 0.6793311834335327),\n",
       " ('bike', 0.6504430770874023),\n",
       " ('plane', 0.6291133165359497),\n",
       " ('train', 0.622740626335144),\n",
       " ('jeep', 0.6214756965637207),\n",
       " ('chevy', 0.6135284900665283),\n",
       " ('garage', 0.6002269387245178),\n",
       " ('cab', 0.5953395366668701),\n",
       " ('horse', 0.5897566080093384)]"
      ]
     },
     "execution_count": 42,
     "metadata": {},
     "output_type": "execute_result"
    }
   ],
   "source": [
    "model.most_similar(\"car\")"
   ]
  }
 ],
 "metadata": {
  "anaconda-cloud": {},
  "kernelspec": {
   "display_name": "Python [conda root]",
   "language": "python",
   "name": "conda-root-py"
  },
  "language_info": {
   "codemirror_mode": {
    "name": "ipython",
    "version": 3
   },
   "file_extension": ".py",
   "mimetype": "text/x-python",
   "name": "python",
   "nbconvert_exporter": "python",
   "pygments_lexer": "ipython3",
   "version": "3.6.2"
  }
 },
 "nbformat": 4,
 "nbformat_minor": 1
}
